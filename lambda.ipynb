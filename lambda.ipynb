{
 "cells": [
  {
   "cell_type": "code",
   "execution_count": 1,
   "id": "dded9c0e-16c4-4a88-ae31-fa2d4ca006a7",
   "metadata": {},
   "outputs": [],
   "source": [
    "def vowels(ch):\n",
    "    if ch in 'aeiou':\n",
    "        return True\n",
    "    return False"
   ]
  },
  {
   "cell_type": "code",
   "execution_count": 6,
   "id": "25a76c02-af87-4186-82e2-3006862d73a8",
   "metadata": {},
   "outputs": [
    {
     "name": "stdin",
     "output_type": "stream",
     "text": [
      " jfifughfhfgngng\n"
     ]
    },
    {
     "name": "stdout",
     "output_type": "stream",
     "text": [
      "['i', 'u']\n"
     ]
    }
   ],
   "source": [
    "s=list(input())\n",
    "print(list(filter(vowels,s)))"
   ]
  },
  {
   "cell_type": "code",
   "execution_count": 10,
   "id": "28930326-f23a-4e8c-955b-012fcff2f5f3",
   "metadata": {},
   "outputs": [
    {
     "name": "stdout",
     "output_type": "stream",
     "text": [
      "[36, 16, 16, 81, 4489, 25, 36, 64]\n",
      "[-12, -8, -8, 18, 134, 10, 12, 16]\n",
      "[-3, -2, -2, 4, 33, 2, 3, 4]\n",
      "[0, 0, 0, 1, 1, 1, 0, 0]\n"
     ]
    }
   ],
   "source": [
    "l=[-6,-4,-4,9,67,5,6,8]\n",
    "print(list(map(lambda x:x**2,l)))\n",
    "print(list(map(lambda x:x*2,l)))\n",
    "print(list(map(lambda x:x//2,l)))\n",
    "print(list(map(lambda x:x%2,l)))\n"
   ]
  },
  {
   "cell_type": "code",
   "execution_count": 7,
   "id": "2860ec9f-cc79-498a-bd44-46d6d56b252a",
   "metadata": {},
   "outputs": [
    {
     "name": "stdout",
     "output_type": "stream",
     "text": [
      "21\n",
      "-19\n"
     ]
    }
   ],
   "source": [
    "from functools import *\n",
    "l=[1,2,3,4,5,6]\n",
    "print(reduce(lambda x,y:x+y,l))\n",
    "print(reduce(lambda x,y:x-y,l))"
   ]
  },
  {
   "cell_type": "code",
   "execution_count": 8,
   "id": "4c0bece0-8a05-4a26-8e21-43688b533f1c",
   "metadata": {},
   "outputs": [
    {
     "name": "stdout",
     "output_type": "stream",
     "text": [
      "2\n"
     ]
    }
   ],
   "source": [
    "from math import gcd\n",
    "\n",
    "def gcd_multiple_numbers(numbers):\n",
    "    return reduce(gcd, numbers)\n",
    "\n",
    "numbers = [6,8,12]\n",
    "print( gcd_multiple_numbers(numbers))\n"
   ]
  },
  {
   "cell_type": "code",
   "execution_count": 39,
   "id": "ad668318-fd74-4d16-829a-4929cdaf7077",
   "metadata": {},
   "outputs": [
    {
     "name": "stdout",
     "output_type": "stream",
     "text": [
      "3\n"
     ]
    }
   ],
   "source": [
    "def gcd(a,b):\n",
    "    while b:\n",
    "        a,b=b,a%b\n",
    "    return a\n",
    "print(gcd(18,21))"
   ]
  },
  {
   "cell_type": "code",
   "execution_count": 8,
   "id": "42717ae6-d56a-4d77-a5f5-99692b6813bd",
   "metadata": {},
   "outputs": [
    {
     "name": "stdout",
     "output_type": "stream",
     "text": [
      "[2, 4, 4]\n",
      "[3, 4, 5, 9, 11, 6, 6]\n"
     ]
    }
   ],
   "source": [
    "l=[1,2,3,7,9,4,4]\n",
    "print(list(filter(lambda x:x%2==0,l)))\n",
    "print(list(map(lambda x:x+2,l)))"
   ]
  },
  {
   "cell_type": "code",
   "execution_count": 13,
   "id": "c47eb44e-6be8-496f-b99b-c5c3ff8bbaad",
   "metadata": {},
   "outputs": [
    {
     "name": "stdout",
     "output_type": "stream",
     "text": [
      "[1, 2, 3, 4, 5, 6, 7, 8, 9, 10]\n"
     ]
    }
   ],
   "source": [
    "def fun(n):\n",
    "    for _ in range(1,n+1):\n",
    "        yield(_)\n",
    "print(list(fun(10)))"
   ]
  },
  {
   "cell_type": "code",
   "execution_count": 4,
   "id": "a554d23c-86eb-48b7-bedb-4061d133b4b3",
   "metadata": {},
   "outputs": [],
   "source": [
    "\n",
    "def sqr(n):\n",
    "    return n*n"
   ]
  },
  {
   "cell_type": "code",
   "execution_count": 5,
   "id": "5074a47e-a54e-417d-9d22-3c2942a530f4",
   "metadata": {},
   "outputs": [
    {
     "name": "stdout",
     "output_type": "stream",
     "text": [
      "125\n"
     ]
    }
   ],
   "source": [
    "def decfunc(fun):\n",
    "    def updfun(n):\n",
    "        return n*fun(n)\n",
    "    return updfun\n",
    "sqr=decfunc(sqr)\n",
    "print(sqr(5))"
   ]
  },
  {
   "cell_type": "code",
   "execution_count": 9,
   "id": "2957086e-d676-4462-b690-2b88c7bc1600",
   "metadata": {},
   "outputs": [
    {
     "name": "stdout",
     "output_type": "stream",
     "text": [
      "True\n"
     ]
    }
   ],
   "source": [
    "print(all(map(lambda x:x>0,l)))"
   ]
  },
  {
   "cell_type": "code",
   "execution_count": 13,
   "id": "27771339-347d-4c78-89df-c44f0bfcbbf0",
   "metadata": {},
   "outputs": [
    {
     "name": "stdout",
     "output_type": "stream",
     "text": [
      "False\n"
     ]
    }
   ],
   "source": [
    "l=[1,2,3,4]\n",
    "print(any(map(lambda x:x<0,l)))"
   ]
  },
  {
   "cell_type": "code",
   "execution_count": 14,
   "id": "5b6afa13-ee1d-45ed-8da6-15a877c7caa2",
   "metadata": {},
   "outputs": [
    {
     "name": "stdout",
     "output_type": "stream",
     "text": [
      "h\n"
     ]
    }
   ],
   "source": [
    "print('h')"
   ]
  },
  {
   "cell_type": "code",
   "execution_count": null,
   "id": "be5a4ece-d824-4b3c-872f-9d51d2c5be16",
   "metadata": {},
   "outputs": [],
   "source": []
  }
 ],
 "metadata": {
  "kernelspec": {
   "display_name": "Python 3 (ipykernel)",
   "language": "python",
   "name": "python3"
  },
  "language_info": {
   "codemirror_mode": {
    "name": "ipython",
    "version": 3
   },
   "file_extension": ".py",
   "mimetype": "text/x-python",
   "name": "python",
   "nbconvert_exporter": "python",
   "pygments_lexer": "ipython3",
   "version": "3.12.4"
  }
 },
 "nbformat": 4,
 "nbformat_minor": 5
}
